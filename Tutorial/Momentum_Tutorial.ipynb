{
 "cells": [
  {
   "cell_type": "markdown",
   "id": "77a7fd99",
   "metadata": {},
   "source": [
    "---\n",
    "# Tutorial Task: Sentiment-Based Quant Strategy\n",
    "---"
   ]
  },
  {
   "cell_type": "markdown",
   "id": "44b20d11",
   "metadata": {},
   "source": [
    "In this tutorial, you will design and implement a **quantitative trading strategy** that makes trading decisions based on **news sentiment** for a selected group of 3 stocks."
   ]
  },
  {
   "cell_type": "markdown",
   "id": "e3e0a326",
   "metadata": {},
   "source": [
    "## Objective\n",
    "\n",
    "Each day, over a 1-week historical period:\n",
    "- **Buy** (go long) the stock with the **most positive** news sentiment\n",
    "- **Sell** (go short) the stock with the **most negative** news sentiment\n",
    "\n",
    "You will:\n",
    "1. Select your own **universe of 3 stocks** (e.g., AAPL, BRK-B, DNUT, MSFT, GOOGL, AMZN, TSLA).\n",
    "2. Use the provided News API to retrieve articles for each stock.\n",
    "3. Calculate the **average sentiment** for each stock daily using tools like `TextBlob`.\n",
    "4. Track your portfolio’s value over time by simulating simple returns.\n",
    "5. Plot your portfolio value and analyze strategy performance.\n",
    "\n",
    "## Constraints\n",
    "\n",
    "- The News API is limited to **100 requests per day**. Avoid excessive API calls while developing by storing data or limiting requests.\n",
    "- You only trade **one long and one short position** per day.\n",
    "- Keep it simple: assume equal capital allocation to long and short trades.\n"
   ]
  },
  {
   "cell_type": "markdown",
   "id": "3cd603bd",
   "metadata": {},
   "source": [
    "## Step 1:\n",
    "Import relevant libraries"
   ]
  },
  {
   "cell_type": "code",
   "execution_count": null,
   "id": "8d8d2f86",
   "metadata": {},
   "outputs": [],
   "source": []
  },
  {
   "cell_type": "markdown",
   "id": "b87ffccc",
   "metadata": {},
   "source": [
    "## Step 2:\n",
    "Configure your API\n",
    "\n",
    "https://newsapi.org/"
   ]
  },
  {
   "cell_type": "code",
   "execution_count": null,
   "id": "6d3853f1",
   "metadata": {},
   "outputs": [],
   "source": []
  },
  {
   "cell_type": "markdown",
   "id": "3835f924",
   "metadata": {},
   "source": [
    "## Step 3:\n",
    "Create a function to get news and calculate the sentiment"
   ]
  },
  {
   "cell_type": "code",
   "execution_count": null,
   "id": "2a4dad13",
   "metadata": {},
   "outputs": [],
   "source": []
  },
  {
   "cell_type": "markdown",
   "id": "ff7b26c7",
   "metadata": {},
   "source": [
    "## Step 4:\n",
    "Simulate Trading by Backtesting"
   ]
  },
  {
   "cell_type": "code",
   "execution_count": null,
   "id": "3ed1b70b",
   "metadata": {},
   "outputs": [],
   "source": []
  },
  {
   "cell_type": "markdown",
   "id": "3c88c049",
   "metadata": {},
   "source": [
    "## Step 5:\n",
    "Display results in ```matplotlib```"
   ]
  },
  {
   "cell_type": "code",
   "execution_count": null,
   "id": "11bee3da",
   "metadata": {},
   "outputs": [],
   "source": []
  }
 ],
 "metadata": {
  "language_info": {
   "name": "python"
  }
 },
 "nbformat": 4,
 "nbformat_minor": 5
}
