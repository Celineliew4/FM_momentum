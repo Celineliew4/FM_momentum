{
 "cells": [
  {
   "cell_type": "markdown",
   "metadata": {
    "slideshow": {
     "slide_type": "slide"
    }
   },
   "source": [
    "# Quantitative Trading and Investing"
   ]
  },
  {
   "cell_type": "markdown",
   "metadata": {
    "slideshow": {
     "slide_type": "fragment"
    }
   },
   "source": [
    "Today we are discussing quantitative trading and investing.\n",
    "This is the domain of Hedge Funds and Market-Making and Trading firms.\n",
    "There are also some long only quantitatively driven managed funds."
   ]
  },
  {
   "cell_type": "markdown",
   "metadata": {
    "slideshow": {
     "slide_type": "slide"
    }
   },
   "source": [
    "## Hedge Funds"
   ]
  },
  {
   "cell_type": "markdown",
   "metadata": {
    "slideshow": {
     "slide_type": "fragment"
    }
   },
   "source": [
    "- Hedge funds are leveraged investment funds originally designed to deploy strategies less exposed to broader markets (hence the word, \"hedge\")\n",
    "- Usually domiciled in low tax jurisdictions\n",
    "- Usually charge high fees (\"two and twenty\")"
   ]
  },
  {
   "cell_type": "markdown",
   "metadata": {
    "slideshow": {
     "slide_type": "fragment"
    }
   },
   "source": [
    "![Sample Image](hedge_funds.png)"
   ]
  },
  {
   "cell_type": "markdown",
   "metadata": {
    "slideshow": {
     "slide_type": "slide"
    }
   },
   "source": [
    "## Market-Making and Trading Firms in Australia\n",
    "\n",
    "Market-making firms primarily act as 'liquidity providers' - that is, they stand ready at all times to act as both a buyer and a seller in their respective markets. In this way, markets are more efficient and liquid for all participants.\n",
    "\n",
    "Many of the larger market-makers began as Option Market-Makers in the 1980s and 1990s in physical 'pits' of exchanges. Since then, markets have become more technilogically advanced, and competition between the larger firms continuously propels technological advancements and expansion into different asset classes."
   ]
  },
  {
   "cell_type": "markdown",
   "metadata": {},
   "source": [
    "<style>\n",
    "table {\n",
    "    width: 100%;\n",
    "    table-layout: fixed;\n",
    "    word-wrap: break-word;\n",
    "}\n",
    "th, td {\n",
    "    text-align: left;\n",
    "}\n",
    ".col1 {\n",
    "    width: 25%;\n",
    "    font-size: 15px; \n",
    "}\n",
    ".col2 {\n",
    "    width: 75%;\n",
    "    font-size: 15px;\n",
    "}\n",
    "</style>\n",
    "<table>\n",
    "  <thead>\n",
    "    <tr>\n",
    "      <th class=\"col1\">Company</th>\n",
    "      <th class=\"col2\">Description</th>\n",
    "    </tr>\n",
    "  </thead>\n",
    "  <tbody>\n",
    "    <tr>\n",
    "      <td class=\"col1\">Citadel Securities</td>\n",
    "      <td class=\"col2\">The 10,000 lb gorilla. \"We provide liquidity...\". \"We move markets forward\"</td>\n",
    "    </tr>\n",
    "    <tr>\n",
    "      <td class=\"col1\">Optiver</td>\n",
    "      <td class=\"col2\">Leading global market maker. Initially options focussed. \"We improve the market\"</td>\n",
    "    </tr>\n",
    "    <tr>\n",
    "      <td class=\"col1\">IMC Trading</td>\n",
    "      <td class=\"col2\">\"Global trading powered by Quant Research and Tech\"</td>\n",
    "    </tr>\n",
    "    <tr>\n",
    "      <td class=\"col1\">Susquehanna International Group (SIG)</td>\n",
    "      <td class=\"col2\">\"At the forefront of Quantitative Trading\"</td>\n",
    "    </tr>\n",
    "    <tr>\n",
    "      <td class=\"col1\">VivCourt</td>\n",
    "      <td class=\"col2\">\"We're an ambitious team of conscious capitalists going toe-to-toe with the world's other leading trading firms. We use technology and data to trade diverse assets and execute various trading strategies on the world's financial markets.\"</td>\n",
    "    </tr>\n",
    "    <tr>\n",
    "      <td class=\"col1\">Nine Mile Trading</td>\n",
    "      <td class=\"col2\">\"We are market makers, traders and technology\"</td>\n",
    "    </tr>\n",
    "    <tr>\n",
    "      <td class=\"col1\">Mako</td>\n",
    "      <td class=\"col2\">\"We are market makers; we are data-driven; we are technologists\"</td>\n",
    "    </tr>\n",
    "    <tr>\n",
    "      <td class=\"col1\">Tibra</td>\n",
    "      <td class=\"col2\">\"A world class quant-trading firm\"</td>\n",
    "    </tr>\n",
    "    <tr>\n",
    "      <td class=\"col1\">Epoch</td>\n",
    "      <td class=\"col2\">\"Trading with bright minds and bold ambitions\"</td>\n",
    "    </tr>\n",
    "  </tbody>\n",
    "</table>"
   ]
  },
  {
   "cell_type": "markdown",
   "metadata": {
    "slideshow": {
     "slide_type": "slide"
    }
   },
   "source": [
    "# Quant strategy case study:  Momentum"
   ]
  },
  {
   "cell_type": "markdown",
   "metadata": {
    "slideshow": {
     "slide_type": "slide"
    }
   },
   "source": [
    "## Momentum trading / investing definition and discussion"
   ]
  },
  {
   "cell_type": "markdown",
   "metadata": {
    "slideshow": {
     "slide_type": "fragment"
    }
   },
   "source": [
    "- Momentum trading strategies are the practice of buying and selling assets according to the recent strength of price trends\n",
    "- Traders who use the strategy aim to buy securities that have been showing an upward price trend and short-sell securities that have been showing a downward trend\n",
    "- Following on from the Fama-French factor model (originally put forward in 1993), Mark Carhart (1997) put forward momentum as a fourth factor\n",
    "- Some proponents describe momentum or trend as an asset class in its own right"
   ]
  },
  {
   "cell_type": "markdown",
   "metadata": {
    "slideshow": {
     "slide_type": "slide"
    }
   },
   "source": [
    "## Efficient markets hypothesis versus Behavioural Finance\n",
    "- Proponents of momentum strategies implicitly reject the weak from of the Efficient Markets Hypothesis\n",
    "- The behavioural bias of under-reaction is considered the reason why momentum has worked historically\n",
    "  - Disposition effects and confirmation bias also potentially contribute to this"
   ]
  },
  {
   "cell_type": "markdown",
   "metadata": {
    "slideshow": {
     "slide_type": "slide"
    }
   },
   "source": [
    "## Richard Driehaus - The father momentum investing \n",
    "\n",
    "<style>\n",
    ".centered-image {\n",
    "    display: flex;\n",
    "    justify-content: center;\n",
    "    align-items: center;\n",
    "    height: 100%;\n",
    "}\n",
    ".centered-image img {\n",
    "    max-width: 100%;\n",
    "    height: auto;\n",
    "}\n",
    "</style>\n",
    "\n",
    "<div class=\"centered-image\">\n",
    "    <img src=\"Driehaus.png\" alt=\"Richard Driehaus\">\n",
    "</div>"
   ]
  },
  {
   "cell_type": "markdown",
   "metadata": {
    "slideshow": {
     "slide_type": "slide"
    }
   },
   "source": [
    "## Richard Driehaus - The father momentum investing \n",
    "|  |  |\n",
    "|-----------|-----------|\n",
    "| Driehaus's Perspective | Driehaus challenged the conventional stock market adage of \"buying low and selling high\"<br><br>Substantial profits could be generated by buying strong stocks and selling them at even higher prices |\n",
    "| High Price Strategy | Strategy focused on identifying stocks with the potential for significant price appreciation, even if they were already trading at high valuation levels<br><br>The market tends to favour stocks exhibiting positive price trends |\n",
    "| Success & Impact | His investment philosophy and strategies have influenced numerous investors and fund managers, leading to the widespread adoption of momentum investing techniques |"
   ]
  },
  {
   "cell_type": "markdown",
   "metadata": {
    "slideshow": {
     "slide_type": "slide"
    }
   },
   "source": [
    "## Momentum - common indicators\n",
    "<style>\n",
    "table {\n",
    "    width: 100%;\n",
    "    table-layout: fixed;\n",
    "    word-wrap: break-word;\n",
    "}\n",
    "th, td {\n",
    "    text-align: left;\n",
    "}\n",
    ".col1 {\n",
    "    width: 25%;\n",
    "    font-size: 15px; \n",
    "}\n",
    ".col2 {\n",
    "    width: 75%;\n",
    "    font-size: 15px;\n",
    "}\n",
    "</style>\n",
    "\n",
    "<table>\n",
    "  <tr>\n",
    "    <th class=\"col1\">Indicator</th>\n",
    "    <th class=\"col2\">Details</th>\n",
    "  </tr>\n",
    "  <tr>\n",
    "    <td class=\"col1\">Rate of Change (ROC)</td>\n",
    "    <td class=\"col2\">The ROC calculates the percentage change in price over a specified period<br>A positive ROC suggests upward momentum, indicating that prices are increasing<br>Traders often use ROC to identify overbought and oversold conditions, potential trend reversals, and divergence between price and momentum</td>\n",
    "  </tr>\n",
    "  <tr>\n",
    "    <td class=\"col1\">Relative Strength Index (RSI)</td>\n",
    "    <td class=\"col2\">RSI is an oscillator that measures the speed and change of price movements<br>It ranges from 0 to 100 and provides indications of overbought and oversold conditions<br>Traders often use RSI to identify potential trend reversals, divergences, and to confirm the strength of an existing trend</td>\n",
    "  </tr>\n",
    "  <tr>\n",
    "    <td class=\"col1\">Moving Average Convergence Divergence (MACD)</td>\n",
    "    <td class=\"col2\">MACD consists of two lines: the MACD line and the signal line, along with a histogram<br>It compares two moving averages of an asset's price to identify potential trend shifts<br>The MACD line represents the difference between a short-term and a long-term moving average<br>The signal line is a moving average of the MACD line</td>\n",
    "  </tr>\n",
    "  <tr>\n",
    "    <td class=\"col1\">Stochastic Oscillator</td>\n",
    "    <td class=\"col2\">The comparison of moving averages involves using two or more moving averages of different periods<br>When the shorter-term moving average crosses above the longer-term moving average, it generates a bullish signal, indicating a potential uptrend<br>When the shorter-term moving average crosses below the longer-term moving average, it generates a bearish signal, indicating a potential downtrend</td>\n",
    "  </tr><tr>\n",
    "    <td class=\"col1\">Comparison of Moving Averages</td>\n",
    "    <td class=\"col2\">The Stochastic Oscillator compares the closing price of an asset to its price range over a specified period<br>It consists of two lines: the %K line and the %D line<br>The %K line represents the current price in relation to the price range<br>The %D line is a moving average of the %K line</td>\n",
    "  </tr>\n",
    "</table>"
   ]
  }
 ],
 "metadata": {
  "language_info": {
   "name": "python"
  }
 },
 "nbformat": 4,
 "nbformat_minor": 2
}
