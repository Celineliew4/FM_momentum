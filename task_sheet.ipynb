{
 "cells": [
  {
   "cell_type": "markdown",
   "metadata": {},
   "source": [
    "# Task\n",
    "\n",
    "Create a Jupyter notebook containing a new quant strategy based on the sentiment of news for a group of 5 stocks.\n",
    "\n",
    "The way the trading strategy will work is to buy the stock with the most positive news sentiment and sell the stock with the most negative news sentiment.\n",
    "\n",
    "Students will pick the 5 stocks for their investing universe (the stocks that are eligible to be bought or sold).\n",
    "\n",
    "The trading strategy should be tested over a 1 week historical period. This is obviously not a robust test but we need to limit the number of calls to the News API for reasons provided below.\n",
    "\n",
    "My code in API_examples (https://github.com/howesrichard/FM_equity_research/blob/main/example_files/API_examples.ipynb) can be used as a starting point on how to get the news from the API and measure it's sentiment.\n",
    "\n",
    "The code in single_window.ipynb can be used a starting point for the trading strategy itself. Instead of picking the top 5 and bottom 5 based on historical price performance, instead pick a single stock to buy and a single stock to sell each day for a week based on sentiment of news on that day.\n",
    "\n",
    "In developing code, be careful that the news API limits the number of requests to 100 per day so they should try to avoid calling it too often during development."
   ]
  }
 ],
 "metadata": {
  "language_info": {
   "name": "python"
  }
 },
 "nbformat": 4,
 "nbformat_minor": 2
}
